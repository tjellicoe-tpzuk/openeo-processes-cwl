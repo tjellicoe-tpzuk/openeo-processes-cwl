{
 "cells": [
  {
   "cell_type": "markdown",
   "metadata": {},
   "source": [
    "# Minibackend example\n",
    "This notebook aims to illustrate how `openeo-pg-parser-networkx` can be used together with `openeo-processes-dask` to execute an OpenEO process graph locally.\n",
    "Note: This capability has also been called the \"mini-backend\" (see [GH issue with discussion](https://github.com/Open-EO/PSC/issues/16)).\n",
    "\n",
    "We'll demonstrate this capability through the following steps:\n",
    "- Load a process graph that represents a computation to be executed on an OpenEO backend and parse it to a traversible Python object using `openeo-pg-parser-networkx`\n",
    "- Traverse the process graph and maps the nodes to a nested Python function\n",
    "- Execute that function\n",
    "\n",
    "Let's go!"
   ]
  },
  {
   "attachments": {},
   "cell_type": "markdown",
   "metadata": {},
   "source": [
    "## Process graph creation\n",
    "We'll keep it super simple and use a process graph that: \n",
    "1) loads a small part of the boa_sentinel_2 collection\n",
    "2) computes Enhanced Vegetation Index (EVI) for each pixel\n",
    "3) multiplies each pixel with a scalar \n",
    "4) saves the result as a NetCDF\n",
    "\n",
    "Specifically, the OpenEO processes necessary to encode this computation are:\n",
    "1) `load_collection`\n",
    "2) `reduce_dimension`\n",
    "    - subprocess: `evi`-processgraph\n",
    "3) `reduce_dimension`\n",
    "    - subprocess: `min`\n",
    "4) `save_result`"
   ]
  },
  {
   "cell_type": "code",
   "execution_count": 1,
   "metadata": {},
   "outputs": [],
   "source": [
    "from openeo_pg_parser_networkx import OpenEOProcessGraph\n",
    "\n",
    "#EVI_GRAPH_PATH = \"./data/pg-evi-example.json\"\n",
    "EVI_GRAPH_PATH = \"./data/cwl-example-stac.json\"\n",
    "\n",
    "parsed_graph = OpenEOProcessGraph.from_file(EVI_GRAPH_PATH)"
   ]
  },
  {
   "cell_type": "code",
   "execution_count": 2,
   "metadata": {},
   "outputs": [
    {
     "data": {
      "text/plain": [
       "<openeo_pg_parser_networkx.graph.OpenEOProcessGraph at 0x7ff674b0dbe0>"
      ]
     },
     "execution_count": 2,
     "metadata": {},
     "output_type": "execute_result"
    }
   ],
   "source": [
    "parsed_graph"
   ]
  },
  {
   "cell_type": "markdown",
   "metadata": {},
   "source": [
    "We can see that `OpenEOProcessGraph` has parsed the process graph - let's plot it!\n"
   ]
  },
  {
   "cell_type": "code",
   "execution_count": 3,
   "metadata": {},
   "outputs": [
    {
     "data": {
      "image/png": "[encoded data removed]",
      "text/plain": [
       "<Figure size 640x480 with 1 Axes>"
      ]
     },
     "metadata": {},
     "output_type": "display_data"
    }
   ],
   "source": [
    "parsed_graph.plot()"
   ]
  },
  {
   "attachments": {},
   "cell_type": "markdown",
   "metadata": {},
   "source": [
    "The blue edges signify a `ResultReference` edge, where the result of the upstream process needs to be passed down to the downstream process as a parameter. \n",
    "E.g. in this process graph the results of `load_collection1` need to be passed on to `evi`. \n",
    "The red edges indicate `Callback` edges. These occur when a \"parent\" process calls upon a \"child\" process, i.e. to apply a reducer over specific dimension of a datacube. \n",
    "In this case the parent process is `reduce_dimension`, which applies the a sub-processgraph to calculate evi for all the pixels.  "
   ]
  },
  {
   "cell_type": "markdown",
   "metadata": {},
   "source": [
    "## Execute the process graph"
   ]
  },
  {
   "cell_type": "markdown",
   "metadata": {},
   "source": [
    "To execute a process graph, `OpenEOProcessGraph` needs to know which Python code to call for each of the nodes in the graph. This information is provided by a \"process registry\", which is basically a dictionary that maps `process_id` to their actual Python implementations as `Callable`s."
   ]
  },
  {
   "cell_type": "markdown",
   "metadata": {},
   "source": [
    " When provided with a ProcessRegistry object (as defined in [openeo-processes-dask](https://github.com/Open-EO/openeo-processes-dask/blob/main/openeo_processes_dask/core.py)), `OpenEOProcessGraph` can translate the process graph into Python code using the `to_callable()` method."
   ]
  },
  {
   "cell_type": "code",
   "execution_count": 4,
   "metadata": {},
   "outputs": [
    {
     "name": "stdout",
     "output_type": "stream",
     "text": [
      "Requirement already satisfied: netCDF4 in /home/tjellicoe/Documents/EOEPCA-and-OPENEO/openeo-dask-update/run-process-graphs/venv/lib/python3.9/site-packages (1.6.5)\n",
      "Requirement already satisfied: cftime in /home/tjellicoe/Documents/EOEPCA-and-OPENEO/openeo-dask-update/run-process-graphs/venv/lib/python3.9/site-packages (from netCDF4) (1.6.3)\n",
      "Requirement already satisfied: certifi in /home/tjellicoe/Documents/EOEPCA-and-OPENEO/openeo-dask-update/run-process-graphs/venv/lib/python3.9/site-packages (from netCDF4) (2023.11.17)\n",
      "Requirement already satisfied: numpy in /home/tjellicoe/Documents/EOEPCA-and-OPENEO/openeo-dask-update/run-process-graphs/venv/lib/python3.9/site-packages (from netCDF4) (1.26.2)\n",
      "Note: you may need to restart the kernel to use updated packages.\n"
     ]
    }
   ],
   "source": [
    "#%pip install \"openeo_processes_dask[implementations]\"\n",
    "%pip install \"netCDF4\"\n",
    "#%pip install -r /home/tjellicoe/Documents/EOEPCA-and-OPENEO/openeo-dask-update/run-process-graphs/requirements.txt"
   ]
  },
  {
   "cell_type": "code",
   "execution_count": 5,
   "metadata": {},
   "outputs": [],
   "source": [
    "#%pip freeze"
   ]
  },
  {
   "cell_type": "code",
   "execution_count": 6,
   "metadata": {},
   "outputs": [],
   "source": [
    "from github import Github"
   ]
  },
  {
   "cell_type": "code",
   "execution_count": 7,
   "metadata": {},
   "outputs": [],
   "source": [
    "import os\n",
    "import sys\n",
    "module_path = os.path.abspath(os.path.join('/home/tjellicoe/Documents/EOEPCA-and-OPENEO/openeo-dask-update/run-process-graphs'))\n",
    "if module_path not in sys.path:\n",
    "    sys.path.append(module_path)\n",
    "#print(sys.path)"
   ]
  },
  {
   "cell_type": "code",
   "execution_count": 8,
   "metadata": {},
   "outputs": [
    {
     "ename": "Exception",
     "evalue": "The provided URL is a STAC CATALOG, which is not yet supported. Please provide a valid URL to a STAC Collection or Item.",
     "output_type": "error",
     "traceback": [
      "\u001b[0;31m---------------------------------------------------------------------------\u001b[0m",
      "\u001b[0;31mKeyError\u001b[0m                                  Traceback (most recent call last)",
      "File \u001b[0;32m~/Documents/EOEPCA-and-OPENEO/openeo-dask-update/run-process-graphs/venv/lib/python3.9/site-packages/openeo_pg_parser_networkx/graph.py:399\u001b[0m, in \u001b[0;36mOpenEOProcessGraph._map_node_to_callable.<locals>.node_callable\u001b[0;34m(parent_callables, named_parameters, *args, **kwargs)\u001b[0m\n\u001b[1;32m    397\u001b[0m             \u001b[38;5;28;01mraise\u001b[39;00m \u001b[38;5;167;01mKeyError\u001b[39;00m()\n\u001b[0;32m--> 399\u001b[0m     \u001b[38;5;28;01mreturn\u001b[39;00m \u001b[43mresults_cache\u001b[49m\u001b[38;5;241;43m.\u001b[39;49m\u001b[38;5;21;43m__getitem__\u001b[39;49m\u001b[43m(\u001b[49m\u001b[43mnode\u001b[49m\u001b[43m)\u001b[49m\n\u001b[1;32m    400\u001b[0m \u001b[38;5;28;01mexcept\u001b[39;00m \u001b[38;5;167;01mKeyError\u001b[39;00m:\n",
      "\u001b[0;31mKeyError\u001b[0m: 'load_stac-0ba1ce7e-d16d-4e10-9864-4d7f9409b3ec'",
      "\nDuring handling of the above exception, another exception occurred:\n",
      "\u001b[0;31mException\u001b[0m                                 Traceback (most recent call last)",
      "Cell \u001b[0;32mIn[8], line 83\u001b[0m\n\u001b[1;32m     80\u001b[0m pg_callable \u001b[38;5;241m=\u001b[39m parsed_graph\u001b[38;5;241m.\u001b[39mto_callable(process_registry\u001b[38;5;241m=\u001b[39mprocess_registry)\n\u001b[1;32m     82\u001b[0m \u001b[38;5;66;03m## Call the newly created callable \u001b[39;00m\n\u001b[0;32m---> 83\u001b[0m \u001b[43mpg_callable\u001b[49m\u001b[43m(\u001b[49m\u001b[43m)\u001b[49m\n",
      "File \u001b[0;32m~/Documents/EOEPCA-and-OPENEO/openeo-dask-update/run-process-graphs/venv/lib/python3.9/site-packages/openeo_pg_parser_networkx/graph.py:376\u001b[0m, in \u001b[0;36mOpenEOProcessGraph._map_node_to_callable.<locals>.node_callable\u001b[0;34m(parent_callables, named_parameters, *args, **kwargs)\u001b[0m\n\u001b[1;32m    374\u001b[0m \u001b[38;5;66;03m# The node needs to first call all its parents, so that results are prepopulated in the results_cache\u001b[39;00m\n\u001b[1;32m    375\u001b[0m \u001b[38;5;28;01mfor\u001b[39;00m func \u001b[38;5;129;01min\u001b[39;00m parent_callables:\n\u001b[0;32m--> 376\u001b[0m     \u001b[43mfunc\u001b[49m\u001b[43m(\u001b[49m\u001b[38;5;241;43m*\u001b[39;49m\u001b[43margs\u001b[49m\u001b[43m,\u001b[49m\u001b[43m \u001b[49m\u001b[43mnamed_parameters\u001b[49m\u001b[38;5;241;43m=\u001b[39;49m\u001b[43mnamed_parameters\u001b[49m\u001b[43m,\u001b[49m\u001b[43m \u001b[49m\u001b[38;5;241;43m*\u001b[39;49m\u001b[38;5;241;43m*\u001b[39;49m\u001b[43mkwargs\u001b[49m\u001b[43m)\u001b[49m\n\u001b[1;32m    378\u001b[0m \u001b[38;5;28;01mtry\u001b[39;00m:\n\u001b[1;32m    379\u001b[0m     \u001b[38;5;66;03m# If this node has already been computed once, just grab that result from the results_cache instead of recomputing it.\u001b[39;00m\n\u001b[1;32m    380\u001b[0m     \u001b[38;5;66;03m# This cannot be done for aggregated data as the wrapped function has to be called multiple times with different values.\u001b[39;00m\n\u001b[1;32m    381\u001b[0m     \u001b[38;5;66;03m# This also means the results_cache will be useless for these functions.\u001b[39;00m\n\u001b[1;32m    382\u001b[0m     \u001b[38;5;66;03m# TODO: track how often functions need to be called and check if they have been called that many times, if yes, we can\u001b[39;00m\n\u001b[1;32m    383\u001b[0m     \u001b[38;5;66;03m# use the cache for aggregate functions, but this is probably not super necessary\u001b[39;00m\n\u001b[1;32m    384\u001b[0m     parent_node_id \u001b[38;5;241m=\u001b[39m [edge[\u001b[38;5;241m0\u001b[39m] \u001b[38;5;28;01mfor\u001b[39;00m edge \u001b[38;5;129;01min\u001b[39;00m \u001b[38;5;28mself\u001b[39m\u001b[38;5;241m.\u001b[39medges \u001b[38;5;28;01mif\u001b[39;00m edge[\u001b[38;5;241m1\u001b[39m] \u001b[38;5;241m==\u001b[39m node]\n",
      "File \u001b[0;32m~/Documents/EOEPCA-and-OPENEO/openeo-dask-update/run-process-graphs/venv/lib/python3.9/site-packages/openeo_pg_parser_networkx/graph.py:412\u001b[0m, in \u001b[0;36mOpenEOProcessGraph._map_node_to_callable.<locals>.node_callable\u001b[0;34m(parent_callables, named_parameters, *args, **kwargs)\u001b[0m\n\u001b[1;32m    404\u001b[0m             arg_sub\u001b[38;5;241m.\u001b[39maccess_func(\n\u001b[1;32m    405\u001b[0m                 new_value\u001b[38;5;241m=\u001b[39mresults_cache[source_node], set_bool\u001b[38;5;241m=\u001b[39m\u001b[38;5;28;01mTrue\u001b[39;00m\n\u001b[1;32m    406\u001b[0m             )\n\u001b[1;32m    408\u001b[0m             kwargs[arg_sub\u001b[38;5;241m.\u001b[39marg_name] \u001b[38;5;241m=\u001b[39m \u001b[38;5;28mself\u001b[39m\u001b[38;5;241m.\u001b[39mG\u001b[38;5;241m.\u001b[39mnodes(data\u001b[38;5;241m=\u001b[39m\u001b[38;5;28;01mTrue\u001b[39;00m)[node][\n\u001b[1;32m    409\u001b[0m                 \u001b[38;5;124m\"\u001b[39m\u001b[38;5;124mresolved_kwargs\u001b[39m\u001b[38;5;124m\"\u001b[39m\n\u001b[1;32m    410\u001b[0m             ]\u001b[38;5;241m.\u001b[39m\u001b[38;5;21m__getitem__\u001b[39m(arg_sub\u001b[38;5;241m.\u001b[39marg_name)\n\u001b[0;32m--> 412\u001b[0m result \u001b[38;5;241m=\u001b[39m \u001b[43mprebaked_process_impl\u001b[49m\u001b[43m(\u001b[49m\n\u001b[1;32m    413\u001b[0m \u001b[43m    \u001b[49m\u001b[38;5;241;43m*\u001b[39;49m\u001b[43margs\u001b[49m\u001b[43m,\u001b[49m\u001b[43m \u001b[49m\u001b[43mnamed_parameters\u001b[49m\u001b[38;5;241;43m=\u001b[39;49m\u001b[43mnamed_parameters\u001b[49m\u001b[43m,\u001b[49m\u001b[43m \u001b[49m\u001b[38;5;241;43m*\u001b[39;49m\u001b[38;5;241;43m*\u001b[39;49m\u001b[43mkwargs\u001b[49m\n\u001b[1;32m    414\u001b[0m \u001b[43m\u001b[49m\u001b[43m)\u001b[49m\n\u001b[1;32m    416\u001b[0m results_cache[node] \u001b[38;5;241m=\u001b[39m result\n\u001b[1;32m    418\u001b[0m \u001b[38;5;28;01mreturn\u001b[39;00m result\n",
      "File \u001b[0;32m~/Documents/EOEPCA-and-OPENEO/openeo-dask-update/run-process-graphs/openeo_processes_dask_new/process_implementations/core.py:84\u001b[0m, in \u001b[0;36mprocess.<locals>.wrapper\u001b[0;34m(positional_parameters, named_parameters, *args, **kwargs)\u001b[0m\n\u001b[1;32m     79\u001b[0m     logger\u001b[38;5;241m.\u001b[39minfo(\u001b[38;5;124mf\u001b[39m\u001b[38;5;124m\"\u001b[39m\u001b[38;5;124mRunning process \u001b[39m\u001b[38;5;132;01m{\u001b[39;00mf\u001b[38;5;241m.\u001b[39m\u001b[38;5;18m__name__\u001b[39m\u001b[38;5;132;01m}\u001b[39;00m\u001b[38;5;124m\"\u001b[39m)\n\u001b[1;32m     80\u001b[0m     logger\u001b[38;5;241m.\u001b[39mdebug(\n\u001b[1;32m     81\u001b[0m         \u001b[38;5;124mf\u001b[39m\u001b[38;5;124m\"\u001b[39m\u001b[38;5;124mRunning process \u001b[39m\u001b[38;5;132;01m{\u001b[39;00mf\u001b[38;5;241m.\u001b[39m\u001b[38;5;18m__name__\u001b[39m\u001b[38;5;132;01m}\u001b[39;00m\u001b[38;5;124m with resolved parameters: \u001b[39m\u001b[38;5;132;01m{\u001b[39;00mpretty_args\u001b[38;5;132;01m}\u001b[39;00m\u001b[38;5;124m\"\u001b[39m\n\u001b[1;32m     82\u001b[0m     )\n\u001b[0;32m---> 84\u001b[0m \u001b[38;5;28;01mreturn\u001b[39;00m \u001b[43mf\u001b[49m\u001b[43m(\u001b[49m\u001b[38;5;241;43m*\u001b[39;49m\u001b[43mresolved_args\u001b[49m\u001b[43m,\u001b[49m\u001b[43m \u001b[49m\u001b[38;5;241;43m*\u001b[39;49m\u001b[38;5;241;43m*\u001b[39;49m\u001b[43mresolved_kwargs\u001b[49m\u001b[43m)\u001b[49m\n",
      "File \u001b[0;32m~/Documents/EOEPCA-and-OPENEO/openeo-dask-update/run-process-graphs/openeo_processes_dask_new/process_implementations/cubes/load.py:151\u001b[0m, in \u001b[0;36mload_stac\u001b[0;34m(url, spatial_extent, temporal_extent, bands, properties)\u001b[0m\n\u001b[1;32m    148\u001b[0m     items \u001b[38;5;241m=\u001b[39m stac_api\u001b[38;5;241m.\u001b[39mstac_object_from_dict(stac_dict)\n\u001b[1;32m    150\u001b[0m \u001b[38;5;28;01melse\u001b[39;00m:\n\u001b[0;32m--> 151\u001b[0m     \u001b[38;5;28;01mraise\u001b[39;00m \u001b[38;5;167;01mException\u001b[39;00m(\n\u001b[1;32m    152\u001b[0m         \u001b[38;5;124mf\u001b[39m\u001b[38;5;124m\"\u001b[39m\u001b[38;5;124mThe provided URL is a STAC \u001b[39m\u001b[38;5;132;01m{\u001b[39;00masset_type\u001b[38;5;132;01m}\u001b[39;00m\u001b[38;5;124m, which is not yet supported. Please provide a valid URL to a STAC Collection or Item.\u001b[39m\u001b[38;5;124m\"\u001b[39m\n\u001b[1;32m    153\u001b[0m     )\n\u001b[1;32m    155\u001b[0m \u001b[38;5;28;01mif\u001b[39;00m bands \u001b[38;5;129;01mis\u001b[39;00m \u001b[38;5;129;01mnot\u001b[39;00m \u001b[38;5;28;01mNone\u001b[39;00m:\n\u001b[1;32m    156\u001b[0m     stack \u001b[38;5;241m=\u001b[39m stackstac\u001b[38;5;241m.\u001b[39mstack(items, assets\u001b[38;5;241m=\u001b[39mbands)\n",
      "\u001b[0;31mException\u001b[0m: The provided URL is a STAC CATALOG, which is not yet supported. Please provide a valid URL to a STAC Collection or Item."
     ]
    }
   ],
   "source": [
    "import importlib\n",
    "import inspect\n",
    "\n",
    "from openeo_pg_parser_networkx import ProcessRegistry\n",
    "from openeo_processes_dask_new.process_implementations.core import process\n",
    "from openeo_pg_parser_networkx.process_registry import Process\n",
    "\n",
    "process_registry = ProcessRegistry(wrap_funcs=[process])\n",
    "\n",
    "# Import these pre-defined processes from openeo_processes_dask and register them into registry\n",
    "processes_from_module = [\n",
    "    func\n",
    "    for _, func in inspect.getmembers(\n",
    "        importlib.import_module(\"openeo_processes_dask_new.process_implementations\"),\n",
    "        inspect.isfunction,\n",
    "    )\n",
    "]\n",
    "\n",
    "specs_module = importlib.import_module(\"openeo_processes_dask_new.specs\")\n",
    "#print(specs_module)\n",
    "#print((specs_module.filter_temporal))\n",
    "specs = {}\n",
    "for func in processes_from_module:\n",
    "    #print(\"Working on \" + str(func))\n",
    "    try:\n",
    "        specs.update({\n",
    "            func.__name__: getattr(specs_module, func.__name__)\n",
    "        })\n",
    "    except:\n",
    "        print(func.__name__ + \" is missing\")\n",
    "        continue\n",
    "\n",
    "for func in processes_from_module:\n",
    "    process_registry[func.__name__] = Process(\n",
    "        spec=specs[func.__name__], implementation=func\n",
    "    )\n",
    "\n",
    "# I/O processes aren't generic (yet), therefore have to custom define those. \n",
    "def load_collection(id, spatial_extent, temporal_extent, bands = [], properties = {}, **kwargs):\n",
    "    # No generic implementation available, so need to implement locally!\n",
    "    import xarray as xr\n",
    "    ds = xr.open_dataset(\"./data/boa.nc\").to_array(dim=\"bands\")\n",
    "    # outfile = ds.to_netcdf()\n",
    "    # with open(\"input_file.nc\", \"wb\") as file:\n",
    "    #     file.write(outfile)\n",
    "    # file.close()\n",
    "    return ds\n",
    "\n",
    "def save_result(data, format = 'netcdf', options = None):\n",
    "    # No generic implementation available, so need to implement locally!\n",
    "    import xarray as xr\n",
    "    print(data['processing:software'].values)\n",
    "    if isinstance(data, str):\n",
    "        outfile = data\n",
    "        with open(\"output_file.txt\", \"w\") as file:\n",
    "            file.write(outfile)\n",
    "        file.close()\n",
    "    elif isinstance(data, xr.DataArray):\n",
    "        #print(data.attrs['reduced_dimensions_min_values'])\n",
    "        try:\n",
    "            data.attrs['reduced_dimensions_min_values'] = str(data.attrs['reduced_dimensions_min_values'])\n",
    "        except:\n",
    "            None\n",
    "        try:\n",
    "            data.attrs['spec'] = str(data.attrs['spec'])\n",
    "        except:\n",
    "            None\n",
    "        outfile = data.to_netcdf()\n",
    "        with open(\"output_file.nc\", \"wb\") as file:\n",
    "            file.write(outfile)    \n",
    "        file.close()\n",
    "\n",
    "from openeo_processes_dask_new.specs import load_collection as load_collection_spec\n",
    "from openeo_processes_dask_new.specs import save_result as save_result_spec\n",
    "\n",
    "process_registry[\"load_collection\"] = Process(spec=load_collection_spec, implementation=load_collection)\n",
    "process_registry[\"save_result\"] = Process(spec=save_result_spec, implementation=save_result)\n",
    "\n",
    "### Create callable for the process graph\n",
    "pg_callable = parsed_graph.to_callable(process_registry=process_registry)\n",
    "\n",
    "## Call the newly created callable \n",
    "pg_callable()\n"
   ]
  },
  {
   "cell_type": "code",
   "execution_count": null,
   "metadata": {},
   "outputs": [],
   "source": []
  }
 ],
 "metadata": {
  "kernelspec": {
   "display_name": "venv",
   "language": "python",
   "name": "venv"
  },
  "language_info": {
   "codemirror_mode": {
    "name": "ipython",
    "version": 3
   },
   "file_extension": ".py",
   "mimetype": "text/x-python",
   "name": "python",
   "nbconvert_exporter": "python",
   "pygments_lexer": "ipython3",
   "version": "3.9.18"
  },
  "vscode": {
   "interpreter": {
    "hash": "43bfd548961cb44d0ba5c288dd3238b5cc2de91951eb0a07084fe475948c38b4"
   }
  }
 },
 "nbformat": 4,
 "nbformat_minor": 4
}
