{
 "cells": [
  {
   "cell_type": "markdown",
   "metadata": {},
   "source": [
    "# Minibackend example\n",
    "This notebook aims to illustrate how `openeo-pg-parser-networkx` can be used together with `openeo-processes-dask` to execute an OpenEO process graph locally.\n",
    "Note: This capability has also been called the \"mini-backend\" (see [GH issue with discussion](https://github.com/Open-EO/PSC/issues/16)).\n",
    "\n",
    "We'll demonstrate this capability through the following steps:\n",
    "- Load a process graph that represents a computation to be executed on an OpenEO backend and parse it to a traversible Python object using `openeo-pg-parser-networkx`\n",
    "- Traverse the process graph and maps the nodes to a nested Python function\n",
    "- Execute that function\n",
    "\n",
    "Let's go!"
   ]
  },
  {
   "attachments": {},
   "cell_type": "markdown",
   "metadata": {},
   "source": [
    "## Process graph creation\n",
    "We'll keep it super simple and use a process graph that: \n",
    "1) loads a small part of the boa_sentinel_2 collection\n",
    "2) computes Enhanced Vegetation Index (EVI) for each pixel\n",
    "3) multiplies each pixel with a scalar \n",
    "4) saves the result as a NetCDF\n",
    "\n",
    "Specifically, the OpenEO processes necessary to encode this computation are:\n",
    "1) `load_collection`\n",
    "2) `reduce_dimension`\n",
    "    - subprocess: `evi`-processgraph\n",
    "3) `reduce_dimension`\n",
    "    - subprocess: `min`\n",
    "4) `save_result`"
   ]
  },
  {
   "cell_type": "code",
   "execution_count": 1,
   "metadata": {},
   "outputs": [],
   "source": [
    "# First prepare the json with the required Git token stored in a .env file\n",
    "# This only needs to be run when the ADES is being used to run the cwl scripts\n",
    "\n",
    "import json\n",
    "import os\n",
    "from dotenv import load_dotenv\n",
    "def apply_token(graph_path):\n",
    "    \n",
    "    ## Replace this string with location of local .env file containing GIT_TOKEN variable\n",
    "    dotEnv_location = \"/home/tjellicoe/Documents/EOEPCA-and-OPENEO/Git/openeo-processes-cwl/.env\"\n",
    "    load_dotenv(dotEnv_location)\n",
    "    \n",
    "    GIT_TOKEN = os.getenv('GIT_TOKEN')\n",
    "    \n",
    "    jsonFile = open(graph_path, \"r\") # Open the JSON file for reading\n",
    "    data = json.load(jsonFile) # Read the JSON into the buffer\n",
    "    jsonFile.close() # Close the JSON file\n",
    "    dict_update = {\"git_token\":GIT_TOKEN}\n",
    "    data[\"process_graph\"][\"cwl_preparation\"][\"arguments\"][\"context\"].update(dict_update)\n",
    "    \n",
    "    jsonFile = open(\"./data/cwl-example-token.json\", \"w+\")\n",
    "    jsonFile.write(json.dumps(data,indent=2))\n",
    "    jsonFile.close()\n",
    "    return \"./data/cwl-example-token.json\"\n",
    "\n"
   ]
  },
  {
   "cell_type": "code",
   "execution_count": 2,
   "metadata": {},
   "outputs": [],
   "source": [
    "from openeo_pg_parser_networkx import OpenEOProcessGraph\n",
    "\n",
    "## Built in example from dask repository\n",
    "#EVI_GRAPH_PATH = \"./data/pg-evi-example.json\"\n",
    "\n",
    "## Please use this call when testing local running of CWL within openEO\n",
    "EVI_GRAPH_PATH = \"./data/cwl-example-local.json\"\n",
    "\n",
    "## Please use this call when testing local running of CWL within openEO with no prior processing, just checking CWL computation\n",
    "EVI_GRAPH_PATH = \"./data/cwl-example-local-noprocessing.json\"\n",
    "\n",
    "## Please use this call when testing the preparation CWL script\n",
    "# EVI_GRAPH_PATH = apply_token(\"./data/cwl-prepare-data.json\")\n",
    "\n",
    "## Please use this call when testing ADES running of CWL within openEO\n",
    "# EVI_GRAPH_PATH = apply_token(\"./data/cwl-example-ades.json\")\n",
    "\n",
    "## Process graph to test load_stac process within openEO Dask implementation\n",
    "# EVI_GRAPH_PATH = \"./data/cwl-example-stac.json\"\n",
    "\n",
    "## Process graph to test load_collection process within the openEO Dask implementation\n",
    "#EVI_GRAPH_PATH = \"./data/openeo-example-basic.json\"\n",
    "\n",
    "parsed_graph = OpenEOProcessGraph.from_file(EVI_GRAPH_PATH)\n",
    "\n",
    "if EVI_GRAPH_PATH == \"./data/cwl-example-token.json\":\n",
    "    os.remove(EVI_GRAPH_PATH)"
   ]
  },
  {
   "cell_type": "code",
   "execution_count": 3,
   "metadata": {},
   "outputs": [
    {
     "data": {
      "text/plain": [
       "<openeo_pg_parser_networkx.graph.OpenEOProcessGraph at 0x7f4e88074fa0>"
      ]
     },
     "execution_count": 3,
     "metadata": {},
     "output_type": "execute_result"
    }
   ],
   "source": [
    "parsed_graph"
   ]
  },
  {
   "cell_type": "markdown",
   "metadata": {},
   "source": [
    "We can see that `OpenEOProcessGraph` has parsed the process graph - let's plot it!\n"
   ]
  },
  {
   "cell_type": "code",
   "execution_count": 4,
   "metadata": {},
   "outputs": [
    {
     "data": {
      "image/png": "[encoded data removed]",
      "text/plain": [
       "<Figure size 640x480 with 1 Axes>"
      ]
     },
     "metadata": {},
     "output_type": "display_data"
    }
   ],
   "source": [
    "parsed_graph.plot()"
   ]
  },
  {
   "attachments": {},
   "cell_type": "markdown",
   "metadata": {},
   "source": [
    "The blue edges signify a `ResultReference` edge, where the result of the upstream process needs to be passed down to the downstream process as a parameter. \n",
    "E.g. in this process graph the results of `load_collection1` need to be passed on to `evi`. \n",
    "The red edges indicate `Callback` edges. These occur when a \"parent\" process calls upon a \"child\" process, i.e. to apply a reducer over specific dimension of a datacube. \n",
    "In this case the parent process is `reduce_dimension`, which applies the a sub-processgraph to calculate evi for all the pixels.  "
   ]
  },
  {
   "cell_type": "markdown",
   "metadata": {},
   "source": [
    "## Execute the process graph"
   ]
  },
  {
   "cell_type": "markdown",
   "metadata": {},
   "source": [
    "To execute a process graph, `OpenEOProcessGraph` needs to know which Python code to call for each of the nodes in the graph. This information is provided by a \"process registry\", which is basically a dictionary that maps `process_id` to their actual Python implementations as `Callable`s."
   ]
  },
  {
   "cell_type": "markdown",
   "metadata": {},
   "source": [
    " When provided with a ProcessRegistry object (as defined in [openeo-processes-dask](https://github.com/Open-EO/openeo-processes-dask/blob/main/openeo_processes_dask/core.py)), `OpenEOProcessGraph` can translate the process graph into Python code using the `to_callable()` method."
   ]
  },
  {
   "cell_type": "code",
   "execution_count": 5,
   "metadata": {},
   "outputs": [
    {
     "name": "stdout",
     "output_type": "stream",
     "text": [
      "Requirement already satisfied: netCDF4 in /home/tjellicoe/Documents/EOEPCA-and-OPENEO/Git/openeo-processes-cwl/venv/lib/python3.9/site-packages (1.6.5)\n",
      "Requirement already satisfied: cftime in /home/tjellicoe/Documents/EOEPCA-and-OPENEO/Git/openeo-processes-cwl/venv/lib/python3.9/site-packages (from netCDF4) (1.6.3)\n",
      "Requirement already satisfied: certifi in /home/tjellicoe/Documents/EOEPCA-and-OPENEO/Git/openeo-processes-cwl/venv/lib/python3.9/site-packages (from netCDF4) (2023.11.17)\n",
      "Requirement already satisfied: numpy in /home/tjellicoe/Documents/EOEPCA-and-OPENEO/Git/openeo-processes-cwl/venv/lib/python3.9/site-packages (from netCDF4) (1.26.3)\n",
      "Note: you may need to restart the kernel to use updated packages.\n"
     ]
    }
   ],
   "source": [
    "#%pip install \"openeo_processes_dask[implementations]\"\n",
    "%pip install \"netCDF4\"\n",
    "#%pip install -r /home/tjellicoe/Documents/EOEPCA-and-OPENEO/openeo-dask-update/run-process-graphs/requirements.txt"
   ]
  },
  {
   "cell_type": "code",
   "execution_count": 6,
   "metadata": {},
   "outputs": [],
   "source": [
    "#%pip freeze"
   ]
  },
  {
   "cell_type": "code",
   "execution_count": 7,
   "metadata": {},
   "outputs": [],
   "source": [
    "import os\n",
    "import sys\n",
    "orig_path = os.getcwd()\n",
    "os.chdir(\"..\")\n",
    "path = os.getcwd()\n",
    "os.chdir(orig_path)\n",
    "#print(path)\n",
    "#module_path = os.path.abspath(os.path.join('/home/tjellicoe/Documents/EOEPCA-and-OPENEO/openeo-dask-update/run-process-graphs'))\n",
    "module_path = os.path.abspath(os.path.join(path))\n",
    "if module_path not in sys.path:\n",
    "    sys.path.append(module_path)\n",
    "#print(sys.path)"
   ]
  },
  {
   "cell_type": "code",
   "execution_count": 12,
   "metadata": {},
   "outputs": [
    {
     "name": "stderr",
     "output_type": "stream",
     "text": [
      "Resolved '../convert-netcdf-basic/convert-nc-app.cwl' to 'file:///home/tjellicoe/Documents/EOEPCA-and-OPENEO/Git/openeo-processes-cwl/convert-netcdf-basic/convert-nc-app.cwl'\n",
      "[workflow _4] start\n",
      "[workflow _4] starting step convert_4\n",
      "[step convert_4] start\n",
      "[job convert_4] /tmp/wprfzavx$ docker \\\n",
      "    run \\\n",
      "    -i \\\n",
      "    --mount=type=bind,source=/tmp/wprfzavx,target=/VrpoiV \\\n",
      "    --mount=type=bind,source=/tmp/rgj_k032,target=/tmp \\\n",
      "    --mount=type=bind,source=/home/tjellicoe/Documents/EOEPCA-and-OPENEO/Git/openeo-processes-cwl/examples/temp_file.nc,target=/var/lib/cwl/stg7069b67d-3296-4dde-b0b5-ba9a0684fce0/temp_file.nc,readonly \\\n",
      "    --workdir=/VrpoiV \\\n",
      "    --read-only=true \\\n",
      "    --user=1001:1001 \\\n",
      "    --rm \\\n",
      "    --cidfile=/tmp/lbgkbof7/20240116092411-788334.cid \\\n",
      "    --env=TMPDIR=/tmp \\\n",
      "    --env=HOME=/VrpoiV \\\n",
      "    tjellicoetpzuk/convert_nc_basic:latest \\\n",
      "    scale \\\n",
      "    --file \\\n",
      "    /var/lib/cwl/stg7069b67d-3296-4dde-b0b5-ba9a0684fce0/temp_file.nc \\\n",
      "    0.1\n",
      "[job convert_4] Max memory used: 0MiB\n",
      "[job convert_4] completed success\n",
      "[step convert_4] completed success\n",
      "[workflow _4] completed success\n"
     ]
    },
    {
     "name": "stdout",
     "output_type": "stream",
     "text": [
      "Writing to file output_file.nc\n"
     ]
    }
   ],
   "source": [
    "import importlib\n",
    "import inspect\n",
    "\n",
    "from openeo_pg_parser_networkx import ProcessRegistry\n",
    "from openeo_processes_dask_new.process_implementations.core import process\n",
    "from openeo_pg_parser_networkx.process_registry import Process\n",
    "\n",
    "process_registry = ProcessRegistry(wrap_funcs=[process])\n",
    "\n",
    "# Import these pre-defined processes from openeo_processes_dask and register them into registry\n",
    "processes_from_module = [\n",
    "    func\n",
    "    for _, func in inspect.getmembers(\n",
    "        importlib.import_module(\"openeo_processes_dask_new.process_implementations\"),\n",
    "        inspect.isfunction,\n",
    "    )\n",
    "]\n",
    "\n",
    "#print(processes_from_module)\n",
    "\n",
    "specs_module = importlib.import_module(\"openeo_processes_dask_new.specs\")\n",
    "#print(specs_module)\n",
    "#print((specs_module.filter_temporal))\n",
    "specs = {}\n",
    "for func in processes_from_module:\n",
    "    #print(\"Working on \" + str(func))\n",
    "    try:\n",
    "        specs.update({\n",
    "            func.__name__: getattr(specs_module, func.__name__)\n",
    "        })\n",
    "    except:\n",
    "        print(func.__name__ + \" is missing\")\n",
    "        continue\n",
    "\n",
    "for func in processes_from_module:\n",
    "    process_registry[func.__name__] = Process(\n",
    "        spec=specs[func.__name__], implementation=func\n",
    "    )\n",
    "\n",
    "# I/O processes aren't generic (yet), therefore have to custom define those. \n",
    "def load_collection(id, spatial_extent, temporal_extent, bands = [], properties = {}, **kwargs):\n",
    "    # No generic implementation available, so need to implement locally!\n",
    "    import xarray as xr\n",
    "    ds = xr.load_dataset(\"./data/boa.nc\")\n",
    "    # ds = xr.open_dataset(\"./data/boa.nc\").to_array(dim=\"bands\")\n",
    "    #print(ds)\n",
    "    # outfile = ds.to_netcdf()\n",
    "    # with open(\"input_file.nc\", \"wb\") as file:\n",
    "    #     file.write(outfile)\n",
    "    # file.close()\n",
    "    return ds\n",
    "\n",
    "def save_result(data, format = 'netcdf', options = None):\n",
    "    # No generic implementation available, so need to implement locally!\n",
    "    \n",
    "    import xarray as xr\n",
    "    \n",
    "    if isinstance(data, str):\n",
    "        print(\"writing to text\")\n",
    "        outfile = data\n",
    "        with open(\"output_file.txt\", \"w\") as file:\n",
    "            file.write(outfile)\n",
    "        file.close()\n",
    "    elif isinstance(data, (xr.DataArray, xr.Dataset)):\n",
    "        #print(data.attrs['reduced_dimensions_min_values'])\n",
    "        #print(data.coords.keys)\n",
    "        ## Need to check for these attribute values as they can only be saved as strings, not dictionaries\n",
    "        try:\n",
    "            data.attrs['reduced_dimensions_min_values'] = str(data.attrs['reduced_dimensions_min_values'])\n",
    "        except:\n",
    "            None\n",
    "        try:\n",
    "            data.attrs['spec'] = str(data.attrs['spec'])\n",
    "        except:\n",
    "            None\n",
    "        try:\n",
    "            data.attrs['processing:software'] = str(data.attrs['processing:software'])\n",
    "        except:\n",
    "            None\n",
    "        outfile = data.to_netcdf()\n",
    "        print(f\"Writing to file output_file.nc\")\n",
    "        with open(\"output_file.nc\", \"wb\") as file:\n",
    "            file.write(outfile)    \n",
    "        file.close()\n",
    "\n",
    "from openeo_processes_dask_new.specs import load_collection as load_collection_spec\n",
    "from openeo_processes_dask_new.specs import save_result as save_result_spec\n",
    "\n",
    "process_registry[\"load_collection\"] = Process(spec=load_collection_spec, implementation=load_collection)\n",
    "process_registry[\"save_result\"] = Process(spec=save_result_spec, implementation=save_result)\n",
    "\n",
    "### Create callable for the process graph\n",
    "pg_callable = parsed_graph.to_callable(process_registry=process_registry)\n",
    "\n",
    "## Call the newly created callable \n",
    "pg_callable()\n"
   ]
  },
  {
   "cell_type": "code",
   "execution_count": null,
   "metadata": {},
   "outputs": [],
   "source": []
  }
 ],
 "metadata": {
  "kernelspec": {
   "display_name": "venv",
   "language": "python",
   "name": "venv"
  },
  "language_info": {
   "codemirror_mode": {
    "name": "ipython",
    "version": 3
   },
   "file_extension": ".py",
   "mimetype": "text/x-python",
   "name": "python",
   "nbconvert_exporter": "python",
   "pygments_lexer": "ipython3",
   "version": "3.9.18"
  },
  "vscode": {
   "interpreter": {
    "hash": "43bfd548961cb44d0ba5c288dd3238b5cc2de91951eb0a07084fe475948c38b4"
   }
  }
 },
 "nbformat": 4,
 "nbformat_minor": 4
}
